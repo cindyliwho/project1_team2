{
 "cells": [
  {
   "cell_type": "markdown",
   "id": "5c1b2d48",
   "metadata": {},
   "source": [
    "1.Marital Status VS Stroke: How does marital status relate to the occurrence of strokes?\n",
    "2.Work Type VS Stroke: Which work type has a higher prevalence of strokes?\n"
   ]
  },
  {
   "cell_type": "code",
   "execution_count": 3,
   "id": "70490814",
   "metadata": {},
   "outputs": [],
   "source": [
    "import pandas as pd\n",
    "import numpy as np\n",
    "import csv\n",
    "import os\n",
    "from pathlib import Path\n",
    "import matplotlib.pyplot as plt"
   ]
  },
  {
   "cell_type": "code",
   "execution_count": 4,
   "id": "65a73d87",
   "metadata": {},
   "outputs": [],
   "source": [
    "# File to Load \n",
    "stroke_data_to_load = Path(\"../Resources/healthcare-dataset-stroke-data-cleaned.csv\")"
   ]
  },
  {
   "cell_type": "code",
   "execution_count": 5,
   "id": "6a96ca2c",
   "metadata": {
    "scrolled": true
   },
   "outputs": [
    {
     "data": {
      "text/html": [
       "<div>\n",
       "<style scoped>\n",
       "    .dataframe tbody tr th:only-of-type {\n",
       "        vertical-align: middle;\n",
       "    }\n",
       "\n",
       "    .dataframe tbody tr th {\n",
       "        vertical-align: top;\n",
       "    }\n",
       "\n",
       "    .dataframe thead th {\n",
       "        text-align: right;\n",
       "    }\n",
       "</style>\n",
       "<table border=\"1\" class=\"dataframe\">\n",
       "  <thead>\n",
       "    <tr style=\"text-align: right;\">\n",
       "      <th></th>\n",
       "      <th>id</th>\n",
       "      <th>gender</th>\n",
       "      <th>age</th>\n",
       "      <th>hypertension</th>\n",
       "      <th>heart_disease</th>\n",
       "      <th>ever_married</th>\n",
       "      <th>work_type</th>\n",
       "      <th>Residence_type</th>\n",
       "      <th>avg_glucose_level</th>\n",
       "      <th>bmi</th>\n",
       "      <th>smoking_status</th>\n",
       "      <th>stroke</th>\n",
       "    </tr>\n",
       "  </thead>\n",
       "  <tbody>\n",
       "    <tr>\n",
       "      <th>0</th>\n",
       "      <td>9046</td>\n",
       "      <td>Male</td>\n",
       "      <td>67.0</td>\n",
       "      <td>0</td>\n",
       "      <td>1</td>\n",
       "      <td>1</td>\n",
       "      <td>Private</td>\n",
       "      <td>Urban</td>\n",
       "      <td>228.69</td>\n",
       "      <td>36.600000</td>\n",
       "      <td>formerly smoked</td>\n",
       "      <td>1</td>\n",
       "    </tr>\n",
       "    <tr>\n",
       "      <th>1</th>\n",
       "      <td>51676</td>\n",
       "      <td>Female</td>\n",
       "      <td>61.0</td>\n",
       "      <td>0</td>\n",
       "      <td>0</td>\n",
       "      <td>1</td>\n",
       "      <td>Self-employed</td>\n",
       "      <td>Rural</td>\n",
       "      <td>202.21</td>\n",
       "      <td>31.735817</td>\n",
       "      <td>never smoked</td>\n",
       "      <td>1</td>\n",
       "    </tr>\n",
       "    <tr>\n",
       "      <th>2</th>\n",
       "      <td>31112</td>\n",
       "      <td>Male</td>\n",
       "      <td>80.0</td>\n",
       "      <td>0</td>\n",
       "      <td>1</td>\n",
       "      <td>1</td>\n",
       "      <td>Private</td>\n",
       "      <td>Rural</td>\n",
       "      <td>105.92</td>\n",
       "      <td>32.500000</td>\n",
       "      <td>never smoked</td>\n",
       "      <td>1</td>\n",
       "    </tr>\n",
       "    <tr>\n",
       "      <th>3</th>\n",
       "      <td>60182</td>\n",
       "      <td>Female</td>\n",
       "      <td>49.0</td>\n",
       "      <td>0</td>\n",
       "      <td>0</td>\n",
       "      <td>1</td>\n",
       "      <td>Private</td>\n",
       "      <td>Urban</td>\n",
       "      <td>171.23</td>\n",
       "      <td>34.400000</td>\n",
       "      <td>smokes</td>\n",
       "      <td>1</td>\n",
       "    </tr>\n",
       "    <tr>\n",
       "      <th>4</th>\n",
       "      <td>1665</td>\n",
       "      <td>Female</td>\n",
       "      <td>79.0</td>\n",
       "      <td>1</td>\n",
       "      <td>0</td>\n",
       "      <td>1</td>\n",
       "      <td>Self-employed</td>\n",
       "      <td>Rural</td>\n",
       "      <td>174.12</td>\n",
       "      <td>24.000000</td>\n",
       "      <td>never smoked</td>\n",
       "      <td>1</td>\n",
       "    </tr>\n",
       "    <tr>\n",
       "      <th>...</th>\n",
       "      <td>...</td>\n",
       "      <td>...</td>\n",
       "      <td>...</td>\n",
       "      <td>...</td>\n",
       "      <td>...</td>\n",
       "      <td>...</td>\n",
       "      <td>...</td>\n",
       "      <td>...</td>\n",
       "      <td>...</td>\n",
       "      <td>...</td>\n",
       "      <td>...</td>\n",
       "      <td>...</td>\n",
       "    </tr>\n",
       "    <tr>\n",
       "      <th>5105</th>\n",
       "      <td>18234</td>\n",
       "      <td>Female</td>\n",
       "      <td>80.0</td>\n",
       "      <td>1</td>\n",
       "      <td>0</td>\n",
       "      <td>1</td>\n",
       "      <td>Private</td>\n",
       "      <td>Urban</td>\n",
       "      <td>83.75</td>\n",
       "      <td>33.905702</td>\n",
       "      <td>never smoked</td>\n",
       "      <td>0</td>\n",
       "    </tr>\n",
       "    <tr>\n",
       "      <th>5106</th>\n",
       "      <td>44873</td>\n",
       "      <td>Female</td>\n",
       "      <td>81.0</td>\n",
       "      <td>0</td>\n",
       "      <td>0</td>\n",
       "      <td>1</td>\n",
       "      <td>Self-employed</td>\n",
       "      <td>Urban</td>\n",
       "      <td>125.20</td>\n",
       "      <td>40.000000</td>\n",
       "      <td>never smoked</td>\n",
       "      <td>0</td>\n",
       "    </tr>\n",
       "    <tr>\n",
       "      <th>5107</th>\n",
       "      <td>19723</td>\n",
       "      <td>Female</td>\n",
       "      <td>35.0</td>\n",
       "      <td>0</td>\n",
       "      <td>0</td>\n",
       "      <td>1</td>\n",
       "      <td>Self-employed</td>\n",
       "      <td>Rural</td>\n",
       "      <td>82.99</td>\n",
       "      <td>30.600000</td>\n",
       "      <td>never smoked</td>\n",
       "      <td>0</td>\n",
       "    </tr>\n",
       "    <tr>\n",
       "      <th>5108</th>\n",
       "      <td>37544</td>\n",
       "      <td>Male</td>\n",
       "      <td>51.0</td>\n",
       "      <td>0</td>\n",
       "      <td>0</td>\n",
       "      <td>1</td>\n",
       "      <td>Private</td>\n",
       "      <td>Rural</td>\n",
       "      <td>166.29</td>\n",
       "      <td>25.600000</td>\n",
       "      <td>formerly smoked</td>\n",
       "      <td>0</td>\n",
       "    </tr>\n",
       "    <tr>\n",
       "      <th>5109</th>\n",
       "      <td>44679</td>\n",
       "      <td>Female</td>\n",
       "      <td>44.0</td>\n",
       "      <td>0</td>\n",
       "      <td>0</td>\n",
       "      <td>1</td>\n",
       "      <td>Govt_job</td>\n",
       "      <td>Urban</td>\n",
       "      <td>85.28</td>\n",
       "      <td>26.200000</td>\n",
       "      <td>Unknown</td>\n",
       "      <td>0</td>\n",
       "    </tr>\n",
       "  </tbody>\n",
       "</table>\n",
       "<p>5110 rows × 12 columns</p>\n",
       "</div>"
      ],
      "text/plain": [
       "         id  gender   age  hypertension  heart_disease  ever_married  \\\n",
       "0      9046    Male  67.0             0              1             1   \n",
       "1     51676  Female  61.0             0              0             1   \n",
       "2     31112    Male  80.0             0              1             1   \n",
       "3     60182  Female  49.0             0              0             1   \n",
       "4      1665  Female  79.0             1              0             1   \n",
       "...     ...     ...   ...           ...            ...           ...   \n",
       "5105  18234  Female  80.0             1              0             1   \n",
       "5106  44873  Female  81.0             0              0             1   \n",
       "5107  19723  Female  35.0             0              0             1   \n",
       "5108  37544    Male  51.0             0              0             1   \n",
       "5109  44679  Female  44.0             0              0             1   \n",
       "\n",
       "          work_type Residence_type  avg_glucose_level        bmi  \\\n",
       "0           Private          Urban             228.69  36.600000   \n",
       "1     Self-employed          Rural             202.21  31.735817   \n",
       "2           Private          Rural             105.92  32.500000   \n",
       "3           Private          Urban             171.23  34.400000   \n",
       "4     Self-employed          Rural             174.12  24.000000   \n",
       "...             ...            ...                ...        ...   \n",
       "5105        Private          Urban              83.75  33.905702   \n",
       "5106  Self-employed          Urban             125.20  40.000000   \n",
       "5107  Self-employed          Rural              82.99  30.600000   \n",
       "5108        Private          Rural             166.29  25.600000   \n",
       "5109       Govt_job          Urban              85.28  26.200000   \n",
       "\n",
       "       smoking_status  stroke  \n",
       "0     formerly smoked       1  \n",
       "1        never smoked       1  \n",
       "2        never smoked       1  \n",
       "3              smokes       1  \n",
       "4        never smoked       1  \n",
       "...               ...     ...  \n",
       "5105     never smoked       0  \n",
       "5106     never smoked       0  \n",
       "5107     never smoked       0  \n",
       "5108  formerly smoked       0  \n",
       "5109          Unknown       0  \n",
       "\n",
       "[5110 rows x 12 columns]"
      ]
     },
     "execution_count": 5,
     "metadata": {},
     "output_type": "execute_result"
    }
   ],
   "source": [
    "# Read Data File and store into Pandas DataFrames\n",
    "stroke_data = pd.read_csv(stroke_data_to_load)\n",
    "stroke_data"
   ]
  },
  {
   "cell_type": "markdown",
   "id": "06d6c73b",
   "metadata": {},
   "source": [
    "# 1.Marital status vs Stroke"
   ]
  },
  {
   "cell_type": "code",
   "execution_count": 6,
   "id": "d2070272",
   "metadata": {},
   "outputs": [
    {
     "name": "stdout",
     "output_type": "stream",
     "text": [
      "Male count: 2115\n",
      "Female count: 2994\n",
      "Total stroke count for males: 108\n",
      "Total stroke count for females: 141\n",
      "Total married count for males: 1352\n",
      "Total married count for females: 2001\n",
      "Total not married count for males: 763\n",
      "Total not married count for females: 993\n"
     ]
    }
   ],
   "source": [
    "stroke_df = pd.DataFrame(stroke_data)\n",
    "stroke_df\n",
    "\n",
    "# Clean the gender column by stripping leading/trailing whitespaces\n",
    "stroke_df['gender'] = stroke_df['gender'].str.strip()\n",
    "\n",
    "# Count the number of males\n",
    "male_count = (stroke_df['gender'].str.lower() == 'male').sum()\n",
    "\n",
    "# Count the number of females\n",
    "female_count = (stroke_df['gender'].str.lower() == 'female').sum()\n",
    "\n",
    "# Print the counts\n",
    "print(\"Male count:\", male_count)\n",
    "print(\"Female count:\", female_count)\n",
    "\n",
    "# Filter rows for males and calculate total stroke count\n",
    "male_stroke_total = stroke_df[stroke_df['gender'].str.lower() == 'male']['stroke'].sum()\n",
    "\n",
    "# Filter rows for females and calculate total stroke count\n",
    "female_stroke_total = stroke_df[stroke_df['gender'].str.lower() == 'female']['stroke'].sum()\n",
    "\n",
    "# Print the results\n",
    "print(\"Total stroke count for males:\", male_stroke_total)\n",
    "print(\"Total stroke count for females:\", female_stroke_total)\n",
    "\n",
    "# Filter rows for males and calculate total married count\n",
    "male_married_count = stroke_df[(stroke_df['gender'].str.lower() == 'male') & (stroke_df['ever_married'] == 1)].shape[0]\n",
    "\n",
    "# Filter rows for females and calculate total married count\n",
    "female_married_count = stroke_df[(stroke_df['gender'].str.lower() == 'female') & (stroke_df['ever_married'] == 1)].shape[0]\n",
    "\n",
    "# Print the results\n",
    "print(\"Total married count for males:\", male_married_count)\n",
    "print(\"Total married count for females:\", female_married_count)\n",
    "\n",
    "# Filter rows for males and calculate total not married count\n",
    "male_not_married_count = stroke_df[(stroke_df['gender'].str.lower() == 'male') & (stroke_df['ever_married'] == 0)].shape[0]\n",
    "\n",
    "# Filter rows for females and calculate total not married count\n",
    "female_not_married_count = stroke_df[(stroke_df['gender'].str.lower() == 'female') & (stroke_df['ever_married'] == 0)].shape[0]\n",
    "\n",
    "# Print the results\n",
    "print(\"Total not married count for males:\", male_not_married_count)\n",
    "print(\"Total not married count for females:\", female_not_married_count) "
   ]
  },
  {
   "cell_type": "code",
   "execution_count": 7,
   "id": "6cbb6ce4",
   "metadata": {},
   "outputs": [
    {
     "name": "stdout",
     "output_type": "stream",
     "text": [
      "   gender  total_stroke  ever_married  not_married\n",
      "0    male           108          1352          763\n",
      "1  female           141          2001          993\n"
     ]
    }
   ],
   "source": [
    "# Create a dictionary with the data\n",
    "stroke_dataframe = {\n",
    "    'gender': ['male', 'female'],\n",
    "    'total_stroke': [male_stroke_total, female_stroke_total],\n",
    "    'ever_married': [male_married_count, female_married_count],\n",
    "    'not_married': [male_not_married_count, female_not_married_count]\n",
    "}\n",
    "\n",
    "# Create the DataFrame\n",
    "df = pd.DataFrame(stroke_dataframe)\n",
    "\n",
    "# Print the DataFrame\n",
    "print(df)"
   ]
  },
  {
   "cell_type": "code",
   "execution_count": 8,
   "id": "4a8fa6d2",
   "metadata": {},
   "outputs": [
    {
     "data": {
      "image/png": "[encoded data removed]",
      "text/plain": [
       "<Figure size 1000x800 with 2 Axes>"
      ]
     },
     "metadata": {},
     "output_type": "display_data"
    }
   ],
   "source": [
    "\n",
    "# Set the figure size and layout\n",
    "plt.figure(figsize=(10, 8))\n",
    "plt.subplots_adjust(hspace=0.4)\n",
    "\n",
    "# Plotting the bar chart for stroke\n",
    "plt.subplot(2, 1, 1)  # Creating the first subplot\n",
    "plt.bar(df['gender'], df['total_stroke'])\n",
    "plt.xlabel('Gender')\n",
    "plt.ylabel('Total Stroke')\n",
    "plt.title('Total Stroke by Gender')\n",
    "\n",
    "# Plotting the bar chart for ever_married and not_married\n",
    "plt.subplot(2, 1, 2)  # Creating the second subplot\n",
    "plt.bar(df['gender'], df['ever_married'], label='Ever Married')\n",
    "plt.bar(df['gender'], df['not_married'], label='Not Married')\n",
    "plt.xlabel('Gender')\n",
    "plt.ylabel('Count')\n",
    "plt.title('Marital Status by Gender')\n",
    "plt.legend()\n",
    "\n",
    "# Adjust the spacing between subplots\n",
    "plt.tight_layout()\n",
    "\n",
    "# Show the plots\n",
    "plt.show()"
   ]
  },
  {
   "cell_type": "markdown",
   "id": "f2fba9bd",
   "metadata": {},
   "source": [
    "Analysis :-Female are likely to have more Heart stroke compared to Male\n",
    "          -Married and unmarried ratio for Female is almost the equal\n",
    "          -Unmarried Male is likely to have more Heart stroke compared to Married Male"
   ]
  },
  {
   "cell_type": "markdown",
   "id": "1ba988dd",
   "metadata": {},
   "source": [
    "# 2.Work type vs Stroke"
   ]
  },
  {
   "cell_type": "code",
   "execution_count": 9,
   "id": "4f7bcbc5",
   "metadata": {},
   "outputs": [
    {
     "name": "stdout",
     "output_type": "stream",
     "text": [
      "Total number of employees in Government Job: 657\n",
      "Total number of employees who are Self-employed: 819\n",
      "Total number of employees in Private sector: 2925\n"
     ]
    }
   ],
   "source": [
    "# Calculate the total number of employees in each job type category\n",
    "govt_job_count = (stroke_data['work_type'] == 'Govt_job').sum()\n",
    "self_employed_count = (stroke_data['work_type'] == 'Self-employed').sum()\n",
    "private_count = (stroke_data['work_type'] == 'Private').sum()\n",
    "\n",
    "# Print the results\n",
    "print(\"Total number of employees in Government Job:\", govt_job_count)\n",
    "print(\"Total number of employees who are Self-employed:\", self_employed_count)\n",
    "print(\"Total number of employees in Private sector:\", private_count)"
   ]
  },
  {
   "cell_type": "code",
   "execution_count": 10,
   "id": "b4c0763c",
   "metadata": {
    "scrolled": true
   },
   "outputs": [
    {
     "name": "stdout",
     "output_type": "stream",
     "text": [
      "         job_type  count\n",
      "0  Government Job    657\n",
      "1   Self-employed    819\n",
      "2         Private   2925\n"
     ]
    }
   ],
   "source": [
    "# Create a dictionary with the data\n",
    "dataframe2 = {\n",
    "    'job_type': ['Government Job', 'Self-employed', 'Private'],\n",
    "    'count': [govt_job_count, self_employed_count, private_count]\n",
    "}\n",
    "\n",
    "# Create the DataFrame\n",
    "df = pd.DataFrame(dataframe2)\n",
    "\n",
    "# Print the DataFrame\n",
    "print(df)"
   ]
  },
  {
   "cell_type": "code",
   "execution_count": 25,
   "id": "95fead76",
   "metadata": {},
   "outputs": [
    {
     "name": "stdout",
     "output_type": "stream",
     "text": [
      "        Government Jobs  Private Jobs  Self-employed\n",
      "Stroke                                              \n",
      "No                  624          2776            754\n",
      "Yes                  33           149             65\n"
     ]
    }
   ],
   "source": [
    "# Calculate the counts for each job type and stroke category\n",
    "govt_jobs_stroke_count = stroke_data[stroke_data['work_type'] == 'Govt_job']['stroke'].value_counts()\n",
    "private_jobs_stroke_count = stroke_data[stroke_data['work_type'] == 'Private']['stroke'].value_counts()\n",
    "self_employed_stroke_count = stroke_data[stroke_data['work_type'] == 'Self-employed']['stroke'].value_counts()\n",
    "\n",
    "# Create a DataFrame to display the results\n",
    "result_df = pd.DataFrame({\n",
    "    'Stroke': ['No', 'Yes'],\n",
    "    'Government Jobs': govt_jobs_stroke_count.values,\n",
    "    'Private Jobs': private_jobs_stroke_count.values,\n",
    "    'Self-employed': self_employed_stroke_count.values\n",
    "})\n",
    "\n",
    "# Set the 'Stroke' column as the index\n",
    "result_df = result_df.set_index('Stroke')\n",
    "\n",
    "# Print the results\n",
    "print(result_df)"
   ]
  },
  {
   "cell_type": "code",
   "execution_count": 26,
   "id": "79d1c716",
   "metadata": {},
   "outputs": [
    {
     "data": {
      "image/png": "[encoded data removed]",
      "text/plain": [
       "<Figure size 800x600 with 1 Axes>"
      ]
     },
     "metadata": {},
     "output_type": "display_data"
    }
   ],
   "source": [
    "# Transpose the DataFrame\n",
    "result_df_transposed = result_df.transpose()\n",
    "\n",
    "# Set the figure size for the plot\n",
    "plt.figure(figsize=(8, 6))\n",
    "\n",
    "# Plot the bar chart\n",
    "result_df_transposed.plot(kind='bar', ax=plt.gca())\n",
    "plt.xlabel('Job Type')\n",
    "plt.ylabel('Stroke Count')\n",
    "plt.title('Stroke Count by Job Type')\n",
    "\n",
    "# Show the plot\n",
    "plt.show()"
   ]
  },
  {
   "cell_type": "markdown",
   "id": "8a76e5d9",
   "metadata": {},
   "source": [
    "Analysis:-From the above analysis,it is clear that people working in Private companies are having more Heart stroke compared to Government jobs and the people,who are self-employed"
   ]
  }
 ],
 "metadata": {
  "kernelspec": {
   "display_name": "Python 3 (ipykernel)",
   "language": "python",
   "name": "python3"
  },
  "language_info": {
   "codemirror_mode": {
    "name": "ipython",
    "version": 3
   },
   "file_extension": ".py",
   "mimetype": "text/x-python",
   "name": "python",
   "nbconvert_exporter": "python",
   "pygments_lexer": "ipython3",
   "version": "3.10.11"
  }
 },
 "nbformat": 4,
 "nbformat_minor": 5
}
